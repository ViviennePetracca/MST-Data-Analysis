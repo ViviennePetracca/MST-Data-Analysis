{
  "nbformat": 4,
  "nbformat_minor": 0,
  "metadata": {
    "colab": {
      "provenance": [],
      "authorship_tag": "ABX9TyME+YE6TzON8vagcbzKKp41",
      "include_colab_link": true
    },
    "kernelspec": {
      "name": "python3",
      "display_name": "Python 3"
    },
    "language_info": {
      "name": "python"
    }
  },
  "cells": [
    {
      "cell_type": "markdown",
      "metadata": {
        "id": "view-in-github",
        "colab_type": "text"
      },
      "source": [
        "<a href=\"https://colab.research.google.com/github/ViviennePetracca/MST-Data-Analysis/blob/main/Research_Project.ipynb\" target=\"_parent\"><img src=\"https://colab.research.google.com/assets/colab-badge.svg\" alt=\"Open In Colab\"/></a>"
      ]
    },
    {
      "cell_type": "code",
      "execution_count": null,
      "metadata": {
        "id": "w9E6-GRXDLye"
      },
      "outputs": [],
      "source": [
        "#From Spreadsheet ->  #2"
      ]
    },
    {
      "cell_type": "code",
      "source": [
        "#2 - Imports Spreadsheet and downloads Pandas (which is used to run data analysis)\n",
        "\n",
        "\n",
        "from google.colab import auth\n",
        "auth.authenticate_user()\n",
        "\n",
        "import gspread\n",
        "from google.auth import default\n",
        "creds, _ = default()\n",
        "\n",
        "gc = gspread.authorize(creds)\n",
        "\n",
        "wb = gc.open('Master Bird Spreadsheet')\n",
        "\n",
        "#open_by_url - More friendly to users\n",
        "\n",
        "import pandas as pd"
      ],
      "metadata": {
        "id": "pIdju8f6E50-"
      },
      "execution_count": 3,
      "outputs": []
    },
    {
      "cell_type": "code",
      "source": [
        "#3 Defines the different sheets as variables\n",
        "\n",
        "\n",
        "for ws in wb.worksheets():\n",
        "  print(ws.title)"
      ],
      "metadata": {
        "colab": {
          "base_uri": "https://localhost:8080/"
        },
        "id": "7eAT-3uq71dr",
        "outputId": "2f5bac44-f5f5-4728-c7d6-fb5d05bd208e"
      },
      "execution_count": 6,
      "outputs": [
        {
          "output_type": "stream",
          "name": "stdout",
          "text": [
            "Sheet1\n",
            "Sheet2\n",
            "Master\n"
          ]
        }
      ]
    },
    {
      "cell_type": "code",
      "source": [
        "# get_all_values gives a list of rows.\n",
        "rows = worksheet.get_all_values()\n",
        "print(rows)\n",
        "\n",
        "# Convert to a DataFrame and render.\n",
        "import pandas as pd\n",
        "pd.DataFrame.from_records(rows)"
      ],
      "metadata": {
        "id": "bT75Qvb0GQpQ"
      },
      "execution_count": null,
      "outputs": []
    }
  ]
}