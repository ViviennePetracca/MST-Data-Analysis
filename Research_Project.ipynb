{
  "nbformat": 4,
  "nbformat_minor": 0,
  "metadata": {
    "colab": {
      "provenance": [],
      "authorship_tag": "ABX9TyPxMGlIFxQn0Ql37Nb6aRwp",
      "include_colab_link": true
    },
    "kernelspec": {
      "name": "python3",
      "display_name": "Python 3"
    },
    "language_info": {
      "name": "python"
    }
  },
  "cells": [
    {
      "cell_type": "markdown",
      "metadata": {
        "id": "view-in-github",
        "colab_type": "text"
      },
      "source": [
        "<a href=\"https://colab.research.google.com/github/ViviennePetracca/MST-Data-Analysis/blob/main/Research_Project.ipynb\" target=\"_parent\"><img src=\"https://colab.research.google.com/assets/colab-badge.svg\" alt=\"Open In Colab\"/></a>"
      ]
    },
    {
      "cell_type": "code",
      "execution_count": null,
      "metadata": {
        "id": "w9E6-GRXDLye"
      },
      "outputs": [],
      "source": [
        "#From Spreadsheet ->  #2\n",
        "\n",
        "#Have prepared: A spreadsheet with each dataset you want to stitch together\n",
        "#A completely blank sheet labeled 'Master'\n",
        "#If you need help converting from a CSV file to google sheets:\n",
        "#Open a spreadsheet and click File -> Import. Then choose a CSV to upload.\n",
        "# Column names must be in row 1 only\n",
        "\n",
        "#Future: Upload CSV files directly into Colab and then make it into a spreadsheet"
      ]
    },
    {
      "cell_type": "code",
      "source": [
        "# Import via Google Spreadsheets\n",
        "\n",
        "\n",
        "from google.colab import auth\n",
        "auth.authenticate_user()\n",
        "\n",
        "import gspread\n",
        "from google.auth import default\n",
        "creds, _ = default()\n",
        "\n",
        "gc = gspread.authorize(creds)\n",
        "\n",
        "import pandas as pd\n",
        "import numpy as np\n",
        "\n",
        "\n",
        "wb = gc.open('Master Bird Spreadsheet')\n"
      ],
      "metadata": {
        "id": "pIdju8f6E50-"
      },
      "execution_count": null,
      "outputs": []
    },
    {
      "cell_type": "code",
      "source": [
        "# Stores the sheets as ListOfFrames and combines them (Sheet1 will be labeled as ListOfFrames[0])\n",
        "\n",
        "ListOfFrames = []\n",
        "\n",
        "for ws in wb.worksheets():\n",
        "  if ws.title != 'Master':\n",
        "    rows = ws.get_all_values()\n",
        "    df = pd.DataFrame.from_records(rows[1:],columns=rows[0])\n",
        "    ListOfFrames.append(df)\n",
        "\n",
        "    df = pd.concat(ListOfFrames)"
      ],
      "metadata": {
        "id": "7eAT-3uq71dr"
      },
      "execution_count": null,
      "outputs": []
    },
    {
      "cell_type": "code",
      "source": [
        "#Combining Columns if they don't have the exact same name:\n",
        "\n",
        "df['Combined Number of Individuals'] = df['No of individuals'].fillna(df['Number of Individuals'])\n",
        "Masterdf = df.drop(['No of individuals','Number of Individuals'],axis=1)\n"
      ],
      "metadata": {
        "id": "W4HVzhgwH9js"
      },
      "execution_count": null,
      "outputs": []
    },
    {
      "cell_type": "code",
      "source": [
        "#Delete rows that include x (Null values/Above or below a certain value/ a certain name)\n",
        "\n",
        "#Null Values\n",
        "#df = Masterdf.dropna()\n",
        "\n",
        "\n",
        "#Column name, value 'if not number'\n",
        "df = Masterdf[df.Species != 'Lesser Whitethroat']\n",
        "\n",
        "df"
      ],
      "metadata": {
        "id": "JoGn_DvFOYU0"
      },
      "execution_count": null,
      "outputs": []
    },
    {
      "cell_type": "code",
      "source": [
        "#Sort by Column\n",
        "\n",
        "Masterdf.sort_values(by=['Date\\n(mm-dd-yyyy)'])\n"
      ],
      "metadata": {
        "id": "Tt4lec2YcuzF"
      },
      "execution_count": null,
      "outputs": []
    },
    {
      "cell_type": "code",
      "source": [
        "#Imports cleaned dataset to new Google Sheets\n",
        "\n",
        "Masterlist = [Masterdf.columns.tolist()] + Masterdf.to_numpy().tolist()\n",
        "from google.colab import auth\n",
        "auth.authenticate_user()\n",
        "\n",
        "import gspread\n",
        "from google.auth import default\n",
        "creds, _ = default()\n",
        "\n",
        "gc = gspread.authorize(creds)\n",
        "\n",
        "sh = gc.create('Master Bird Data')\n",
        "\n",
        "# Open our new sheet and add some data.\n",
        "worksheet = gc.open('Master Bird Data').sheet1\n",
        "\n",
        "MasterExport = Masterdf\n",
        "worksheet.update_cells(MasterExport)\n",
        "# Go to https://sheets.google.com to see your new spreadsheet."
      ],
      "metadata": {
        "id": "X58Lejd8S492"
      },
      "execution_count": null,
      "outputs": []
    },
    {
      "cell_type": "code",
      "source": [
        "# By this point the dataset is cleaned: The next step is data analysis"
      ],
      "metadata": {
        "id": "7QJMFBSME2bO"
      },
      "execution_count": null,
      "outputs": []
    },
    {
      "cell_type": "code",
      "source": [
        "#Makes values in columns into floats (which is what the code uses for running data analysis tests)\n",
        "\n",
        "Masterdf['Transect1'] = pd.to_numeric(Masterdf['Transect'],errors = 'coerce')\n",
        "Masterdf['Combined Number of Individuals1'] = pd.to_numeric(Masterdf['Combined Number of Individuals'],errors = 'coerce')"
      ],
      "metadata": {
        "id": "6_Z2aKxZlRIC"
      },
      "execution_count": null,
      "outputs": []
    },
    {
      "cell_type": "code",
      "source": [
        "print(df.dtypes)"
      ],
      "metadata": {
        "id": "MtMTCup6vOSb"
      },
      "execution_count": null,
      "outputs": []
    },
    {
      "cell_type": "code",
      "source": [
        "#Pearson's correlation coefficient\n",
        "\n",
        "Correlation= df['Transect1'].corr(df['Combined Number of Individuals1'])\n",
        "\n",
        "print(Correlation)\n",
        "\n"
      ],
      "metadata": {
        "id": "rJFEFd6MO4gU"
      },
      "execution_count": null,
      "outputs": []
    },
    {
      "cell_type": "code",
      "source": [
        "#Chi- Square Test\n",
        "import pandas as pd\n",
        "from scipy import stats\n",
        "\n",
        "crosstab = pd.crosstab(df['Transect1'], df['Combined Number of Individuals1'])\n",
        "crosstab\n",
        "\n",
        "stats.chi2_contingency(crosstab)"
      ],
      "metadata": {
        "id": "J8t4m3Wm_zfI"
      },
      "execution_count": null,
      "outputs": []
    },
    {
      "cell_type": "code",
      "source": [
        "#Graphing\n",
        "\n",
        "import matplotlib.pyplot as plt\n",
        "\n",
        "df.plot(x='Transect1', y='Combined Number of Individuals1', style='o')\n"
      ],
      "metadata": {
        "id": "V_3H6jvZO-X9"
      },
      "execution_count": null,
      "outputs": []
    },
    {
      "cell_type": "code",
      "source": [
        "#FUTURE: Merge Rows with same column name to fill null values\n",
        "\n",
        "#Masterdf.groupby(['Date\\n(mm-dd-yyyy)']).first().reset_index()\n"
      ],
      "metadata": {
        "id": "rNqXLBoERtVz"
      },
      "execution_count": null,
      "outputs": []
    }
  ]
}